{
 "cells": [
  {
   "cell_type": "markdown",
   "metadata": {},
   "source": [
    "# Albedo Regression Example"
   ]
  },
  {
   "cell_type": "markdown",
   "metadata": {},
   "source": [
    "# Imports"
   ]
  },
  {
   "cell_type": "code",
   "execution_count": null,
   "metadata": {},
   "outputs": [],
   "source": [
    "import ROOT\n",
    "from ROOT import TMVA,TFile, TTree, TCut, TString, TCanvas,  TASImage\n",
    "import matplotlib.pyplot as plt\n",
    "import numpy as np"
   ]
  },
  {
   "cell_type": "markdown",
   "metadata": {},
   "source": [
    "# Plotting raw data"
   ]
  },
  {
   "cell_type": "code",
   "execution_count": null,
   "metadata": {},
   "outputs": [],
   "source": [
    "img=np.genfromtxt('data/Albedo_Map.csv',delimiter=',')\n",
    "imgplot = plt.imshow(img)\n",
    "plt.show()"
   ]
  },
  {
   "cell_type": "markdown",
   "metadata": {},
   "source": [
    "## Declare Factory\n",
    "Initiate the TMVA library, get the data sample from github, and create a factory to do the regression."
   ]
  },
  {
   "cell_type": "code",
   "execution_count": null,
   "metadata": {},
   "outputs": [],
   "source": [
    "TMVA.Tools.Instance();\n",
    "\n",
    "inputFile = TFile.Open(\"data/dataset.root\");\n",
    "outputFile = TFile.Open(\"TMVAOutputBDT.root\", \"RECREATE\");\n",
    "\n",
    "factory = TMVA.Factory(\"TMVARegression\", outputFile,\n",
    "                      \"!V:!Silent:Color:DrawProgressBar:AnalysisType=Regression\" ); "
   ]
  },
  {
   "cell_type": "markdown",
   "metadata": {},
   "source": [
    "## Declare DataLoader\n",
    "Define the features and the target for the regression."
   ]
  },
  {
   "cell_type": "code",
   "execution_count": null,
   "metadata": {},
   "outputs": [],
   "source": [
    "loader = TMVA.DataLoader(\"dataset\"); \n",
    "\n",
    "#Add the feature variables, names reference branches in inputFile ttree\n",
    "loader.AddVariable(\"Fast_Map_extra\", \"\", \"units\", 'F' );\n",
    "loader.AddVariable(\"LPFe_Map\", \"\", \"units\", 'F' );\n",
    "loader.AddVariable(\"LPK_Map_extra\", \"\", \"units\", 'F' );\n",
    "loader.AddVariable(\"LPTh_Map\", \"\", \"units\", 'F' );\n",
    "loader.AddVariable(\"LPTi_Map\", \"\", \"units\", 'F' );\n",
    "loader.AddVariable(\"Therm_Map\", \"\", \"units\", 'F' );\n",
    "\n",
    "loader.AddTarget( \"Albedo_Map\" ); # define the target for the regression\n"
   ]
  },
  {
   "cell_type": "markdown",
   "metadata": {},
   "source": [
    "## Setup Dataset\n",
    "Link dataloader to dataset."
   ]
  },
  {
   "cell_type": "code",
   "execution_count": null,
   "metadata": {},
   "outputs": [],
   "source": [
    "tree=TTree()\n",
    "inputFile.GetObject(\"TreeR\", tree);\n",
    "\n",
    "mycuts = TCut(\"\"); # e.g. TCut mycuts = \"abs(var1)<0.5\";\n",
    "\n",
    "loader.AddRegressionTree(tree, 1.0);   # link the TTree to the loader, weight for each event  = 1\n",
    "loader.PrepareTrainingAndTestTree(mycuts,\"nTrain_Regression=129600:nTest_Regression=129960:SplitMode=Random:NormMode=NumEvents:!V\" );"
   ]
  },
  {
   "cell_type": "markdown",
   "metadata": {},
   "source": [
    "# Book The Regression Method"
   ]
  },
  {
   "cell_type": "markdown",
   "metadata": {},
   "source": [
    "Book the method for regression. Here we choose the Boosted Decision Tree model. You have to use gradient boosted trees for regression, hence the BDTG and BoostType=Grad. \n",
    "\n",
    "Define the hyperparameters: ntrees, boosttype, shrinkage, and the depth. Also define the loss function you want to use: 'AbsoluteDeviation', 'Huber', or 'LeastSquares'. nCuts determines how finely to look at each feature. Larger values take more time, but you may get more accurate results."
   ]
  },
  {
   "cell_type": "code",
   "execution_count": null,
   "metadata": {},
   "outputs": [],
   "source": [
    "# Boosted Decision Trees \n",
    "factory.BookMethod(loader,TMVA.Types.kBDT, \"BDTG\",\"!H:!V:NTrees=200::BoostType=Grad:Shrinkage=0.3:nCuts=20:MaxDepth=4:RegressionLossFunctionBDTG=AbsoluteDeviation\");"
   ]
  },
  {
   "cell_type": "markdown",
   "metadata": {},
   "source": [
    "# Train Method"
   ]
  },
  {
   "cell_type": "code",
   "execution_count": null,
   "metadata": {},
   "outputs": [],
   "source": [
    "factory.TrainAllMethods();"
   ]
  },
  {
   "cell_type": "markdown",
   "metadata": {},
   "source": [
    "# Test and Evaluate the Model"
   ]
  },
  {
   "cell_type": "code",
   "execution_count": null,
   "metadata": {},
   "outputs": [],
   "source": [
    "factory.TestAllMethods();\n",
    "factory.EvaluateAllMethods();    "
   ]
  },
  {
   "cell_type": "markdown",
   "metadata": {},
   "source": [
    "## Gather and Plot the Results\n",
    "Let's plot the residuals for the BDTG predictions. First, close the output file so that it saves to disk and we can open it without issue. Then get the results on the test set. Finally, plot the residuals."
   ]
  },
  {
   "cell_type": "code",
   "execution_count": null,
   "metadata": {},
   "outputs": [],
   "source": [
    "%jsroot on\n",
    "outputFile.Close();\n",
    "resultsFile = TFile.Open(\"TMVAOutputBDT.root\");\n",
    "resultsTree = resultsFile.Get(\"dataset/TestTree\"); \n",
    "c=TCanvas() ;\n",
    "resultsTree.Draw(\"BDTG\"); # BDTG is the predicted value, target is the true value\n",
    "c.Draw()"
   ]
  },
  {
   "cell_type": "code",
   "execution_count": null,
   "metadata": {},
   "outputs": [],
   "source": []
  }
 ],
 "metadata": {
  "kernelspec": {
   "display_name": "Python 3",
   "language": "python",
   "name": "python3"
  },
  "language_info": {
   "codemirror_mode": {
    "name": "ipython",
    "version": 3
   },
   "file_extension": ".py",
   "mimetype": "text/x-python",
   "name": "python",
   "nbconvert_exporter": "python",
   "pygments_lexer": "ipython3",
   "version": "3.6.5"
  }
 },
 "nbformat": 4,
 "nbformat_minor": 1
}
