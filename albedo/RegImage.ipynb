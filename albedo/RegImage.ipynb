{
 "cells": [
  {
   "cell_type": "code",
   "execution_count": null,
   "metadata": {},
   "outputs": [],
   "source": [
    "import matplotlib.pyplot as plt\n",
    "import numpy as np\n",
    "import pandas as p\n",
    "%matplotlib inline"
   ]
  },
  {
   "cell_type": "code",
   "execution_count": null,
   "metadata": {},
   "outputs": [],
   "source": [
    "result = np.genfromtxt ('data/result.txt', delimiter=\",\")"
   ]
  },
  {
   "cell_type": "code",
   "execution_count": null,
   "metadata": {},
   "outputs": [],
   "source": [
    "result = result.reshape(-1, 361)\n",
    "np.savetxt('data/result.csv', result , delimiter=',') \n",
    "imgplot = plt.imshow(result) #Needs to be in row,col order\n",
    "imgplot.set_cmap('nipy_spectral')\n",
    "plt.clim(0.10,0.5)\n",
    "plt.colorbar()\n",
    "plt.show()\n"
   ]
  },
  {
   "cell_type": "code",
   "execution_count": null,
   "metadata": {},
   "outputs": [],
   "source": [
    "datatrain=p.read_csv(\"data/Albedo_Map.csv.train\",dtype=float)\n",
    "imgplot = plt.imshow(datatrain) #Needs to be in row,col order\n",
    "imgplot.set_cmap('nipy_spectral')\n",
    "plt.clim(0.10,0.5)\n",
    "plt.colorbar()\n",
    "plt.show()\n"
   ]
  },
  {
   "cell_type": "code",
   "execution_count": null,
   "metadata": {},
   "outputs": [],
   "source": [
    "datatest=p.read_csv(\"data/Albedo_Map.csv.test\",dtype=float)\n",
    "imgplot = plt.imshow(datatest) #Needs to be in row,col order\n",
    "imgplot.set_cmap('nipy_spectral')\n",
    "plt.clim(0.10,0.5)\n",
    "plt.colorbar()\n",
    "plt.show()\n"
   ]
  },
  {
   "cell_type": "code",
   "execution_count": null,
   "metadata": {},
   "outputs": [],
   "source": [
    "alldata=p.read_csv(\"data/Albedo_Map.csv\",dtype=float)\n",
    "imgplot = plt.imshow(alldata) #Needs to be in row,col order\n",
    "imgplot.set_cmap('nipy_spectral')\n",
    "plt.clim(0.10,0.5)\n",
    "plt.colorbar()\n",
    "plt.show()"
   ]
  },
  {
   "cell_type": "code",
   "execution_count": null,
   "metadata": {},
   "outputs": [],
   "source": [
    "alldatatrainresult=p.read_csv(\"data/AlbedoTrainResult.csv\",dtype=float)\n",
    "imgplot = plt.imshow(alldatatrainresult) #Needs to be in row,col order\n",
    "imgplot.set_cmap('nipy_spectral')\n",
    "plt.clim(0.10,0.5)\n",
    "plt.colorbar()\n",
    "plt.show()"
   ]
  },
  {
   "cell_type": "code",
   "execution_count": null,
   "metadata": {},
   "outputs": [],
   "source": []
  }
 ],
 "metadata": {
  "kernelspec": {
   "display_name": "Python 3",
   "language": "python",
   "name": "python3"
  },
  "language_info": {
   "codemirror_mode": {
    "name": "ipython",
    "version": 3
   },
   "file_extension": ".py",
   "mimetype": "text/x-python",
   "name": "python",
   "nbconvert_exporter": "python",
   "pygments_lexer": "ipython3",
   "version": "3.6.5"
  }
 },
 "nbformat": 4,
 "nbformat_minor": 1
}
