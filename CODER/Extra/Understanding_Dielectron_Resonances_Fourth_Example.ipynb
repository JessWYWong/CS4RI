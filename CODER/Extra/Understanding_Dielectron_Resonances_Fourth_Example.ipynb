{
 "cells": [
  {
   "cell_type": "markdown",
   "metadata": {},
   "source": [
    "<img src=\"../img/HeaderOpenData.png\">\n",
    "\n",
    "# CMS Open Data Example #4: Di-Electron Resonances\n",
    "\n",
    "<img src=\"../img/Zee.jpg\">\n",
    "\n",
    "## Import Modules and Turn on Javascript"
   ]
  },
  {
   "cell_type": "code",
   "execution_count": 1,
   "metadata": {},
   "outputs": [
    {
     "name": "stdout",
     "output_type": "stream",
     "text": [
      "Welcome to JupyROOT 6.12/06\n"
     ]
    }
   ],
   "source": [
    "from ROOT import TFile, TCanvas, TH1F, TLorentzVector\n",
    "\n",
    "%jsroot on"
   ]
  },
  {
   "cell_type": "markdown",
   "metadata": {},
   "source": [
    "## Read in Data from Input File"
   ]
  },
  {
   "cell_type": "code",
   "execution_count": 2,
   "metadata": {},
   "outputs": [],
   "source": [
    "file = TFile(\"data/Dielectrons.root\",\"READ\");"
   ]
  },
  {
   "cell_type": "markdown",
   "metadata": {
    "collapsed": true
   },
   "source": [
    "# Compute Di-Electron Invariant Mass\n",
    "Let's calculate the invariant mass $M$ of two electrons"
   ]
  },
  {
   "cell_type": "markdown",
   "metadata": {},
   "source": [
    "## Setup a Canvas"
   ]
  },
  {
   "cell_type": "code",
   "execution_count": 3,
   "metadata": {},
   "outputs": [],
   "source": [
    "Canvas = TCanvas()"
   ]
  },
  {
   "cell_type": "markdown",
   "metadata": {},
   "source": [
    "## Declare Histograms"
   ]
  },
  {
   "cell_type": "code",
   "execution_count": 4,
   "metadata": {},
   "outputs": [],
   "source": [
    "histogram = TH1F(\"Invariant Mass\",\"ee mass; ee mass [GeV];Events\", 900, 2, 110)"
   ]
  },
  {
   "cell_type": "markdown",
   "metadata": {
    "collapsed": true
   },
   "source": [
    "## Loop Over the Events in the Data File\n",
    "### <tab> Compute Di-Electron Invariant Mass "
   ]
  },
  {
   "cell_type": "code",
   "execution_count": 5,
   "metadata": {},
   "outputs": [],
   "source": [
    "for diele in file.Dielectrons:\n",
    "    \n",
    "    electron1 = TLorentzVector(diele.Electron1_Px, diele.Electron1_Py, diele.Electron1_Pz, diele.Electron1_Energy)\n",
    "    \n",
    "    electron2 = TLorentzVector(diele.Electron2_Px, diele.Electron2_Py, diele.Electron2_Pz, diele.Electron2_Energy)\n",
    "    \n",
    "    InvariantMass = (electron1 + electron2).M()\n",
    "            \n",
    "    histogram.Fill(InvariantMass)    "
   ]
  },
  {
   "cell_type": "markdown",
   "metadata": {},
   "source": [
    "## Plot the Di-Electron Invariant Mass Spectrum"
   ]
  },
  {
   "cell_type": "code",
   "execution_count": 6,
   "metadata": {},
   "outputs": [
    {
     "data": {
      "text/html": [
       "\n",
       "<div id=\"root_plot_1\"\n",
       "     style=\"width: 696px; height: 472px\">\n",
       "</div>\n",
       "\n",
       "<script>\n",
       " requirejs.config({\n",
       "     paths: {\n",
       "       'JSRootCore' : 'https://root.cern.ch/js/notebook//scripts/JSRootCore',\n",
       "     }\n",
       "   });\n",
       " require(['JSRootCore'],\n",
       "     function(Core) {\n",
       "       var obj = Core.JSONR_unref({\"_typename\":\"TCanvas\",\"fUniqueID\":0,\"fBits\":53673992,\"fLineColor\":1,\"fLineStyle\":1,\"fLineWidth\":1,\"fFillColor\":0,\"fFillStyle\":1001,\"fLeftMargin\":0.1,\"fRightMargin\":0.1,\"fBottomMargin\":0.1,\"fTopMargin\":0.1,\"fXfile\":2,\"fYfile\":2,\"fAfile\":1,\"fXstat\":0.99,\"fYstat\":0.99,\"fAstat\":2,\"fFrameFillColor\":0,\"fFrameLineColor\":1,\"fFrameFillStyle\":1001,\"fFrameLineStyle\":1,\"fFrameLineWidth\":1,\"fFrameBorderSize\":1,\"fFrameBorderMode\":0,\"fX1\":-11.5000010058284,\"fY1\":-0.183314278439614,\"fX2\":123.500001005828,\"fY2\":3.41074088229095,\"fXtoAbsPixelk\":59.2889431910199,\"fXtoPixelk\":59.2889431910199,\"fXtoPixel\":5.15555547873179,\"fYtoAbsPixelk\":447.925756325022,\"fYtoPixelk\":447.925756325022,\"fYtoPixel\":-131.327978812673,\"fUtoAbsPixelk\":5e-5,\"fUtoPixelk\":5e-5,\"fUtoPixel\":696,\"fVtoAbsPixelk\":472.00005,\"fVtoPixelk\":472,\"fVtoPixel\":-472,\"fAbsPixeltoXk\":-11.5000010058284,\"fPixeltoXk\":-11.5000010058284,\"fPixeltoX\":0.193965520131691,\"fAbsPixeltoYk\":3.41074088229095,\"fPixeltoYk\":-0.183314278439614,\"fPixeltoY\":-0.00761452364561559,\"fXlowNDC\":0,\"fYlowNDC\":0,\"fXUpNDC\":0,\"fYUpNDC\":0,\"fWNDC\":1,\"fHNDC\":1,\"fAbsXlowNDC\":0,\"fAbsYlowNDC\":0,\"fAbsWNDC\":1,\"fAbsHNDC\":1,\"fUxmin\":2,\"fUymin\":0.176091259055681,\"fUxmax\":110,\"fUymax\":3.05133534479565,\"fTheta\":30,\"fPhi\":30,\"fAspectRatio\":0,\"fNumber\":0,\"fTickx\":0,\"fTicky\":0,\"fLogx\":0,\"fLogy\":1,\"fLogz\":0,\"fPadPaint\":0,\"fCrosshair\":0,\"fCrosshairPos\":0,\"fBorderSize\":2,\"fBorderMode\":0,\"fModified\":false,\"fGridx\":false,\"fGridy\":false,\"fAbsCoord\":false,\"fEditable\":true,\"fFixedAspectRatio\":false,\"fPrimitives\":{\"_typename\":\"TList\",\"name\":\"TList\",\"arr\":[{\"_typename\":\"TFrame\",\"fUniqueID\":0,\"fBits\":50331656,\"fLineColor\":1,\"fLineStyle\":1,\"fLineWidth\":1,\"fFillColor\":0,\"fFillStyle\":1001,\"fX1\":2,\"fY1\":0.176091259055681,\"fX2\":110,\"fY2\":3.05133534479565,\"fBorderSize\":1,\"fBorderMode\":0},{\"_typename\":\"TH1F\",\"fUniqueID\":0,\"fBits\":50331656,\"fName\":\"Invariant Mass\",\"fTitle\":\"ee mass\",\"fLineColor\":602,\"fLineStyle\":1,\"fLineWidth\":1,\"fFillColor\":0,\"fFillStyle\":1001,\"fMarkerColor\":1,\"fMarkerStyle\":1,\"fMarkerSize\":1,\"fNcells\":902,\"fXaxis\":{\"_typename\":\"TAxis\",\"fUniqueID\":0,\"fBits\":50331648,\"fName\":\"xaxis\",\"fTitle\":\" ee mass [GeV]\",\"fNdivisions\":510,\"fAxisColor\":1,\"fLabelColor\":1,\"fLabelFont\":42,\"fLabelOffset\":0.005,\"fLabelSize\":0.035,\"fTickLength\":0.03,\"fTitleOffset\":1,\"fTitleSize\":0.035,\"fTitleColor\":1,\"fTitleFont\":42,\"fNbins\":900,\"fXmin\":2,\"fXmax\":110,\"fXbins\":[],\"fFirst\":0,\"fLast\":0,\"fBits2\":0,\"fTimeDisplay\":false,\"fTimeFormat\":\"\",\"fLabels\":null,\"fModLabs\":null},\"fYaxis\":{\"_typename\":\"TAxis\",\"fUniqueID\":0,\"fBits\":50331648,\"fName\":\"yaxis\",\"fTitle\":\"Events\",\"fNdivisions\":510,\"fAxisColor\":1,\"fLabelColor\":1,\"fLabelFont\":42,\"fLabelOffset\":0.005,\"fLabelSize\":0.035,\"fTickLength\":0.03,\"fTitleOffset\":0,\"fTitleSize\":0.035,\"fTitleColor\":1,\"fTitleFont\":42,\"fNbins\":1,\"fXmin\":0,\"fXmax\":1,\"fXbins\":[],\"fFirst\":0,\"fLast\":0,\"fBits2\":0,\"fTimeDisplay\":false,\"fTimeFormat\":\"\",\"fLabels\":null,\"fModLabs\":null},\"fZaxis\":{\"_typename\":\"TAxis\",\"fUniqueID\":0,\"fBits\":50331648,\"fName\":\"zaxis\",\"fTitle\":\"\",\"fNdivisions\":510,\"fAxisColor\":1,\"fLabelColor\":1,\"fLabelFont\":42,\"fLabelOffset\":0.005,\"fLabelSize\":0.035,\"fTickLength\":0.03,\"fTitleOffset\":1,\"fTitleSize\":0.035,\"fTitleColor\":1,\"fTitleFont\":42,\"fNbins\":1,\"fXmin\":0,\"fXmax\":1,\"fXbins\":[],\"fFirst\":0,\"fLast\":0,\"fBits2\":0,\"fTimeDisplay\":false,\"fTimeFormat\":\"\",\"fLabels\":null,\"fModLabs\":null},\"fBarOffset\":0,\"fBarWidth\":1000,\"fEntries\":99914,\"fTsumw\":99907,\"fTsumw2\":99907,\"fTsumwx\":2999378.00433689,\"fTsumwx2\":153771392.396991,\"fMaximum\":-1111,\"fMinimum\":-1111,\"fNormFactor\":0,\"fContour\":[],\"fSumw2\":[],\"fOption\":\"\",\"fFunctions\":{\"_typename\":\"TList\",\"name\":\"TList\",\"arr\":[{\"_typename\":\"TPaveStats\",\"fUniqueID\":0,\"fBits\":50331657,\"fLineColor\":1,\"fLineStyle\":1,\"fLineWidth\":1,\"fFillColor\":0,\"fFillStyle\":1001,\"fX1\":93.8000027358533,\"fY1\":2.60207849254881,\"fX2\":120.800003540516,\"fY2\":3.17712730541236,\"fX1NDC\":0.780000016093254,\"fY1NDC\":0.775000005960464,\"fX2NDC\":0.980000019073486,\"fY2NDC\":0.935000002384186,\"fBorderSize\":1,\"fInit\":1,\"fShadowColor\":1,\"fCornerRadius\":0,\"fOption\":\"brNDC\",\"fName\":\"stats\",\"fTextAngle\":0,\"fTextSize\":0,\"fTextAlign\":12,\"fTextColor\":1,\"fTextFont\":42,\"fLabel\":\"\",\"fLongest\":18,\"fMargin\":0.05,\"fLines\":{\"_typename\":\"TList\",\"name\":\"TList\",\"arr\":[{\"_typename\":\"TLatex\",\"fUniqueID\":0,\"fBits\":50331648,\"fName\":\"\",\"fTitle\":\"Invariant Mass\",\"fTextAngle\":0,\"fTextSize\":0.0368,\"fTextAlign\":0,\"fTextColor\":0,\"fTextFont\":0,\"fX\":0,\"fY\":0,\"fLineColor\":1,\"fLineStyle\":1,\"fLineWidth\":2,\"fLimitFactorSize\":3,\"fOriginSize\":0.0368000008165836},{\"_typename\":\"TLatex\",\"fUniqueID\":0,\"fBits\":50331648,\"fName\":\"\",\"fTitle\":\"Entries = 99914  \",\"fTextAngle\":0,\"fTextSize\":0,\"fTextAlign\":0,\"fTextColor\":0,\"fTextFont\":0,\"fX\":0,\"fY\":0,\"fLineColor\":1,\"fLineStyle\":1,\"fLineWidth\":2,\"fLimitFactorSize\":3,\"fOriginSize\":0.04},{\"_typename\":\"TLatex\",\"fUniqueID\":0,\"fBits\":50331648,\"fName\":\"\",\"fTitle\":\"Mean  =  30.02\",\"fTextAngle\":0,\"fTextSize\":0,\"fTextAlign\":0,\"fTextColor\":0,\"fTextFont\":0,\"fX\":0,\"fY\":0,\"fLineColor\":1,\"fLineStyle\":1,\"fLineWidth\":2,\"fLimitFactorSize\":3,\"fOriginSize\":0.04},{\"_typename\":\"TLatex\",\"fUniqueID\":0,\"fBits\":50331648,\"fName\":\"\",\"fTitle\":\"Std Dev   =  25.26\",\"fTextAngle\":0,\"fTextSize\":0,\"fTextAlign\":0,\"fTextColor\":0,\"fTextFont\":0,\"fX\":0,\"fY\":0,\"fLineColor\":1,\"fLineStyle\":1,\"fLineWidth\":2,\"fLimitFactorSize\":3,\"fOriginSize\":0.04}],\"opt\":[\"\",\"\",\"\",\"\"]},\"fOptFit\":0,\"fOptStat\":1111,\"fFitFormat\":\"5.4g\",\"fStatFormat\":\"6.4g\",\"fParent\":{\"$ref\":3}}],\"opt\":[\"brNDC\"]},\"fBufferSize\":0,\"fBuffer\":[],\"fBinStatErrOpt\":0,\"fArray\":[7,321,302,330,336,351,412,408,474,594,547,408,319,330,276,309,250,257,229,244,219,232,189,233,218,220,206,227,247,223,219,193,219,229,223,198,222,213,233,198,219,226,246,225,216,229,233,216,208,247,241,219,236,241,236,270,257,278,310,258,299,337,348,334,355,339,336,327,342,338,313,324,301,295,318,298,292,290,336,314,306,340,317,330,352,338,324,343,345,344,358,358,369,346,357,351,389,364,348,355,378,369,350,359,386,454,384,356,360,377,397,378,348,369,422,370,370,365,354,378,350,399,342,348,324,362,333,320,360,311,320,313,321,313,356,299,314,324,309,349,347,318,276,291,324,335,315,261,307,305,290,284,314,294,295,283,315,285,297,297,301,263,266,267,307,261,281,271,254,300,268,250,243,265,240,231,245,256,252,252,246,245,243,233,217,243,242,226,220,232,240,209,214,189,228,210,210,222,186,180,192,191,220,219,209,222,178,182,199,181,191,184,189,193,177,179,200,189,199,204,212,182,187,171,196,205,146,159,164,138,172,184,208,175,173,161,169,157,156,163,166,153,155,145,141,124,136,151,169,137,152,139,141,151,141,135,134,146,127,125,123,138,136,126,108,133,139,136,134,106,115,127,129,118,109,115,124,117,119,104,124,123,124,115,111,99,116,120,117,100,116,107,101,112,107,115,87,97,101,106,86,87,90,85,98,107,79,97,92,97,105,82,105,97,94,98,91,104,102,82,90,77,101,87,88,90,75,78,87,100,73,93,76,82,72,80,105,89,83,73,84,73,77,75,77,70,58,75,75,63,85,80,78,66,67,67,92,67,67,63,83,80,82,70,68,77,50,65,59,73,63,48,71,80,87,47,70,65,72,53,55,55,69,61,70,64,84,62,56,60,50,43,59,62,62,63,70,56,60,54,46,54,50,62,60,61,53,52,66,50,63,52,48,52,53,45,56,48,45,38,56,52,45,58,50,54,44,63,55,52,46,49,42,47,51,62,45,52,37,48,48,71,47,52,52,44,37,49,47,43,42,59,45,35,43,51,49,57,48,41,40,54,47,40,43,48,49,50,42,43,42,40,49,27,36,39,35,45,49,62,42,39,57,40,44,31,38,47,43,42,39,48,34,37,46,36,55,39,33,34,34,36,42,41,34,41,30,43,39,36,33,40,39,51,39,48,27,43,42,28,32,36,40,31,33,42,36,45,32,41,44,34,32,35,35,32,29,28,34,33,38,28,27,31,37,39,34,43,32,37,32,32,27,25,20,34,29,31,34,42,22,29,39,28,31,34,33,25,29,28,29,29,25,45,42,32,33,36,25,30,37,34,42,23,31,35,34,32,34,24,30,14,30,30,30,24,32,29,23,30,26,27,21,31,38,31,27,24,29,29,28,30,34,25,37,28,25,24,37,30,36,24,29,35,24,34,25,26,21,31,33,25,20,23,30,27,35,28,20,31,36,22,27,39,25,34,25,26,27,34,19,28,24,29,29,24,32,26,27,23,40,27,29,30,27,35,27,40,30,36,33,22,31,43,21,33,38,27,46,38,30,25,44,38,31,28,48,29,43,38,40,31,39,45,57,41,50,34,54,50,55,56,39,37,53,58,57,52,49,53,45,55,55,59,50,68,64,52,52,68,58,67,71,69,58,68,70,89,75,62,87,80,96,97,92,88,83,80,95,108,117,89,93,91,89,98,87,78,89,88,87,98,71,77,88,88,76,57,75,83,85,89,70,71,62,60,48,51,63,57,54,50,60,52,33,31,41,32,36,37,36,28,22,30,35,37,31,28,21,35,21,20,22,19,11,19,23,27,15,13,23,23,21,16,20,10,19,15,13,13,17,10,17,5,23,16,12,12,10,9,13,11,13,16,10,15,13,8,9,8,13,13,11,17,12,10,8,16,6,7,7,12,10,6,10,9,4,10,6,9,12,10,8,8,8,13,8,13,7,8,11,15,5,9,11,6,7,11,12,7,13,13,9,8,3,8,10,9,7,4,9,14,6,11,10,4,11,6,6,5,8,10,5,8,7,6,5,6,6,6,10,0]},{\"_typename\":\"TPaveText\",\"fUniqueID\":0,\"fBits\":50331657,\"fLineColor\":1,\"fLineStyle\":1,\"fLineWidth\":1,\"fFillColor\":0,\"fFillStyle\":0,\"fX1\":45.533620533694,\"fY1\":3.19509758683935,\"fX2\":66.466379466306,\"fY2\":3.39277062362508,\"fX1NDC\":0.422471264367816,\"fY1NDC\":0.940000003948808,\"fX2NDC\":0.577528735632184,\"fY2NDC\":0.995000004768372,\"fBorderSize\":0,\"fInit\":1,\"fShadowColor\":1,\"fCornerRadius\":0,\"fOption\":\"blNDC\",\"fName\":\"title\",\"fTextAngle\":0,\"fTextSize\":0,\"fTextAlign\":22,\"fTextColor\":1,\"fTextFont\":42,\"fLabel\":\"\",\"fLongest\":7,\"fMargin\":0.05,\"fLines\":{\"_typename\":\"TList\",\"name\":\"TList\",\"arr\":[{\"_typename\":\"TLatex\",\"fUniqueID\":0,\"fBits\":50331648,\"fName\":\"\",\"fTitle\":\"ee mass\",\"fTextAngle\":0,\"fTextSize\":0,\"fTextAlign\":0,\"fTextColor\":0,\"fTextFont\":0,\"fX\":0,\"fY\":0,\"fLineColor\":1,\"fLineStyle\":1,\"fLineWidth\":2,\"fLimitFactorSize\":3,\"fOriginSize\":0.0467500016093254}],\"opt\":[\"\"]}}],\"opt\":[\"\",\"\",\"blNDC\"]},\"fExecs\":null,\"fName\":\"c1\",\"fTitle\":\"c1\",\"fNumPaletteColor\":0,\"fNextPaletteColor\":0,\"fDISPLAY\":\"$DISPLAY\",\"fDoubleBuffer\":0,\"fRetained\":true,\"fXsizeUser\":0,\"fYsizeUser\":0,\"fXsizeReal\":20,\"fYsizeReal\":14.28571,\"fWindowTopX\":0,\"fWindowTopY\":0,\"fWindowWidth\":0,\"fWindowHeight\":0,\"fCw\":696,\"fCh\":472,\"fCatt\":{\"_typename\":\"TAttCanvas\",\"fXBetween\":2,\"fYBetween\":2,\"fTitleFromTop\":1.2,\"fXdate\":0.2,\"fYdate\":0.3,\"fAdate\":1},\"kMoveOpaque\":true,\"kResizeOpaque\":true,\"fHighLightColor\":2,\"fBatch\":true,\"kShowEventStatus\":false,\"kAutoExec\":true,\"kMenuBar\":true});\n",
       "       Core.draw(\"root_plot_1\", obj, \"\");\n",
       "     }\n",
       " );\n",
       "</script>\n"
      ],
      "text/plain": [
       "<IPython.core.display.HTML object>"
      ]
     },
     "metadata": {},
     "output_type": "display_data"
    }
   ],
   "source": [
    "histogram.Draw()\n",
    "\n",
    "Canvas.SetLogy()\n",
    "\n",
    "Canvas.Draw()"
   ]
  },
  {
   "cell_type": "markdown",
   "metadata": {},
   "source": [
    "## Di-Electrons Exercise: \n",
    "### Can You Spot the Di-Electron Resonances? \n",
    "### Make a Histogram For Each One"
   ]
  },
  {
   "cell_type": "code",
   "execution_count": null,
   "metadata": {},
   "outputs": [],
   "source": []
  }
 ],
 "metadata": {
  "kernelspec": {
   "display_name": "Python 2",
   "language": "python",
   "name": "python2"
  },
  "language_info": {
   "codemirror_mode": {
    "name": "ipython",
    "version": 2
   },
   "file_extension": ".py",
   "mimetype": "text/x-python",
   "name": "python",
   "nbconvert_exporter": "python",
   "pygments_lexer": "ipython2",
   "version": "2.7.13"
  }
 },
 "nbformat": 4,
 "nbformat_minor": 1
}
